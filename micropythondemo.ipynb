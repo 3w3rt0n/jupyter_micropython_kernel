{
 "cells": [
  {
   "cell_type": "code",
   "execution_count": 1,
   "metadata": {},
   "outputs": [
    {
     "name": "stdout",
     "output_type": "stream",
     "text": [
      "No serial connected\n",
      "  %serialconnect to connect\n",
      "  %lsmagic to list commands"
     ]
    }
   ],
   "source": [
    "asdasd"
   ]
  },
  {
   "cell_type": "code",
   "execution_count": 1,
   "metadata": {},
   "outputs": [
    {
     "name": "stdout",
     "output_type": "stream",
     "text": [
      "Connecting to Serial (/dev/ttyUSB3, 115200)\n",
      "\n",
      " ** Serial connected **\n",
      "\n",
      "Serial<id=0x7f0ff71a85c0, open=True>(port='/dev/ttyUSB3', baudrate=115200, bytesize=8, parity='N', stopbits=1, timeout=0.5, xonxoff=False, rtscts=False, dsrdtr=False)\n",
      "raw REPL; CTRL-B to exit\n",
      ">"
     ]
    }
   ],
   "source": [
    "%serialconnect"
   ]
  },
  {
   "cell_type": "code",
   "execution_count": 3,
   "metadata": {},
   "outputs": [
    {
     "name": "stdout",
     "output_type": "stream",
     "text": [
      "Traceback (most recent call last):\n",
      "  File \"<stdin>\", line 1, in <module>\n",
      "NameError: name 'i' is not defined\n"
     ]
    }
   ],
   "source": [
    "print(i)"
   ]
  },
  {
   "cell_type": "code",
   "execution_count": 4,
   "metadata": {},
   "outputs": [
    {
     "name": "stdout",
     "output_type": "stream",
     "text": [
      "1\n",
      "9\n",
      "\n",
      "\n",
      "*** Sending x03\n",
      "\n",
      "Traceback (most recent call last):\n",
      "  File \"<stdin>\", line 7, in <module>\n",
      "  File \"<stdin>\", line 6, in k\n",
      "KeyboardInterrupt: \n"
     ]
    }
   ],
   "source": [
    "# slow function to test streaming and interrupts\n",
    "import time\n",
    "def k(n):\n",
    "    for i in range(n):\n",
    "        print(9**i)\n",
    "        time.sleep(2)\n",
    "k(19)"
   ]
  },
  {
   "cell_type": "code",
   "execution_count": 36,
   "metadata": {},
   "outputs": [
    {
     "name": "stdout",
     "output_type": "stream",
     "text": [
      "serial.write 1 bytes"
     ]
    }
   ],
   "source": [
    "%writebytes b'\\x0a'"
   ]
  },
  {
   "cell_type": "code",
   "execution_count": 9,
   "metadata": {},
   "outputs": [
    {
     "name": "stdout",
     "output_type": "stream",
     "text": [
      "__main__          http_client_ssl   sys               urandom\n",
      "_boot             http_server       time              ure\n",
      "_onewire          http_server_ssl   uasyncio/__init__ urequests\n",
      "_webrepl          inisetup          uasyncio/core     urllib/urequest\n",
      "apa102            json              ubinascii         uselect\n",
      "array             lwip              ucollections      usocket\n",
      "btree             machine           uctypes           ussl\n",
      "builtins          math              uerrno            ustruct\n",
      "dht               micropython       uhashlib          utime\n",
      "ds18x20           neopixel          uheapq            utimeq\n",
      "errno             network           uio               uzlib\n",
      "esp               ntptime           ujson             webrepl\n",
      "example_pub_button                  onewire           umqtt/robust      webrepl_setup\n",
      "example_sub_led   os                umqtt/simple      websocket\n",
      "flashbdev         port_diag         uos               websocket_helper\n",
      "framebuf          select            upip\n",
      "gc                socket            upip_utarfile\n",
      "http_client       ssd1306           upysh\n",
      "Plus any modules on the filesystem\n"
     ]
    }
   ],
   "source": [
    "help(\"modules\")"
   ]
  },
  {
   "cell_type": "code",
   "execution_count": 4,
   "metadata": {},
   "outputs": [
    {
     "name": "stdout",
     "output_type": "stream",
     "text": [
      "[b'']"
     ]
    }
   ],
   "source": [
    "%readbytes"
   ]
  },
  {
   "cell_type": "code",
   "execution_count": 74,
   "metadata": {},
   "outputs": [
    {
     "name": "stdout",
     "output_type": "stream",
     "text": [
      "%serialconnect [/dev/ttyUSB0] [115200]\n",
      "%suppressendcode doesn't send x04 or wait to read after sending the cell\n",
      "  (assists for debugging using %writebytes and %readbytes)\n",
      "%writebytes does serial.write() on a string b'binary_stuff' \n",
      "%readbytes does serial.read_all()\n",
      "%rebootdevice reboots device\n",
      "%sendtofile name.py uploads subsequent text to file\n"
     ]
    }
   ],
   "source": [
    "%lsmagic"
   ]
  },
  {
   "cell_type": "code",
   "execution_count": 57,
   "metadata": {
    "collapsed": true
   },
   "outputs": [],
   "source": [
    "import network\n",
    "si = network.WLAN(network.STA_IF)\n",
    "si.active(True)\n"
   ]
  },
  {
   "cell_type": "code",
   "execution_count": 58,
   "metadata": {},
   "outputs": [
    {
     "name": "stdout",
     "output_type": "stream",
     "text": [
      "True\r\n"
     ]
    }
   ],
   "source": [
    "print(si.isconnected())\n"
   ]
  },
  {
   "cell_type": "code",
   "execution_count": 59,
   "metadata": {},
   "outputs": [
    {
     "name": "stdout",
     "output_type": "stream",
     "text": [
      "(b'DoESLiverpool', b'\\xd0\\x03K\\xd5u\\x96', 11, -69, 3, 0)\n",
      "(b'MerseyEmpleymentLaw', b'\\x18\\xd0q\\x0f-@', 1, -78, 3, 0)\n",
      "(b'HP-Print-85-Officejet 7610', b'\\xec\\x8e\\xb5~g\\x85', 1, -92, 3, 0)\n",
      "(b'ACM', b'\\x18\\xd0q\\x0f/ ', 1, -79, 3, 0)\n",
      "(b'TNCAPBCA9E3', b'\\xc4\\xea\\x1d\\xbc\\xa9\\xe3', 1, -91, 4, 0)\n",
      "(b'BTHub3-SPH7', b'\\x00\\x91\\xf9p=4', 1, -83, 4, 0)\n",
      "(b'stagecoach-wifi', b'\\x04\\xf0!,\\xfd\\x9d', 1, -84, 0, 0)\n",
      "(b'PromoTrader', b'\\x18\\xd0q\\x0e\\xff\\x1e', 1, -82, 3, 0)\n",
      "(b'PLUSNET-HJN78N', b'|&d\\x07\\xf6\\x19', 1, -85, 3, 0)\n",
      "(b'MDProductions', b'\\x18\\xd0q\\x0f-b', 11, -83, 3, 0)\n",
      "(b'Stigma_Tattoo', b'\\x18\\xd0q\\x0f/R', 11, -94, 3, 0)\n",
      "(b'DIRECT-liM2070 Series', b'2\\xcd\\xa7\\xa7\\xe8\\t', 11, -71, 3, 0)\n",
      "(b'MEL', b'\\x00\\x1d\\xaa\\xaa\\xe9@', 3, -77, 4, 0)\n",
      "(b'DIRECT-45-HP OfficeJet 7510', b'dQ\\x06\\xf6H\\xd1', 6, -61, 3, 0)\n",
      "(b'IOISIS', b'\\x18\\xd0q\\x0f.\\xea', 6, -91, 3, 0)\n",
      "(b'ThompsonGriffiths', b'\\x18\\xd0q\\x0f*\\xce', 6, -84, 3, 0)\n",
      "(b'LiverSketchClub', b'\\x00\\xd0\\xcb\\xf51N', 6, -83, 3, 0)\n",
      "(b'DoESBackup', b'\\x18\\xd0q\\x0f.\\x12', 6, -65, 3, 0)\n",
      "(b'304', b'\\x18\\xd0q\\n\\xfb\\x9a', 6, -91, 3, 0)\n",
      "(b'Novotel', b'T=7)x\\xc8', 6, -92, 0, 0)\n",
      "(b'DoESDinky', b' \\xaaK\\x1b\\x98\\x02', 9, -80, 3, 0)\n",
      "(b'Section 31', b'\\x00\\x0c\\xf6\\x82\\xa4\\xd4', 13, -65, 3, 0)\n"
     ]
    }
   ],
   "source": [
    "for x in si.scan():\n",
    "    print(x)\n",
    "    "
   ]
  },
  {
   "cell_type": "code",
   "execution_count": 37,
   "metadata": {
    "collapsed": true
   },
   "outputs": [],
   "source": [
    "si.connect(\"DoESLiverpool\", \"decafbad00\")"
   ]
  },
  {
   "cell_type": "code",
   "execution_count": 60,
   "metadata": {},
   "outputs": [
    {
     "name": "stdout",
     "output_type": "stream",
     "text": [
      "True\r\n"
     ]
    }
   ],
   "source": [
    "print(si.isconnected())"
   ]
  },
  {
   "cell_type": "code",
   "execution_count": 66,
   "metadata": {},
   "outputs": [
    {
     "name": "stdout",
     "output_type": "stream",
     "text": [
      "[(2, 1, 0, '', ('0.0.0.0', 80))]\r\n"
     ]
    }
   ],
   "source": [
    "import socket\n",
    "print(socket.getaddrinfo(\"0.0.0.0\", 80))"
   ]
  },
  {
   "cell_type": "code",
   "execution_count": 61,
   "metadata": {},
   "outputs": [
    {
     "name": "stdout",
     "output_type": "stream",
     "text": [
      "Traceback (most recent call last):\n",
      "  File \"<stdin>\", line 1, in <module>\n",
      "NameError: name 'socket' is not defined\n"
     ]
    }
   ],
   "source": [
    "help(socket)"
   ]
  },
  {
   "cell_type": "code",
   "execution_count": 44,
   "metadata": {},
   "outputs": [
    {
     "name": "stdout",
     "output_type": "stream",
     "text": [
      "object <WLAN> is of type WLAN\n",
      "  active -- <function>\n",
      "  connect -- <function>\n",
      "  disconnect -- <function>\n",
      "  status -- <function>\n",
      "  scan -- <function>\n",
      "  isconnected -- <function>\n",
      "  config -- <function>\n",
      "  ifconfig -- <function>\n"
     ]
    }
   ],
   "source": [
    "help(si)"
   ]
  },
  {
   "cell_type": "code",
   "execution_count": 62,
   "metadata": {},
   "outputs": [
    {
     "name": "stdout",
     "output_type": "stream",
     "text": [
      "('192.168.0.142', '255.255.255.0', '192.168.0.1', '77.75.184.5')\n",
      "5\n"
     ]
    }
   ],
   "source": [
    "print(si.ifconfig())\n",
    "print(si.status())"
   ]
  },
  {
   "cell_type": "code",
   "execution_count": 133,
   "metadata": {},
   "outputs": [],
   "source": [
    "# The code necessary for accepting and serving a connection into its hotspot\n",
    "# \n",
    "import socket\n",
    "\n",
    "s = socket.socket()\n",
    "s.bind((\"192.168.4.1\", 80))\n",
    "s.listen(5)  # 5 connections"
   ]
  },
  {
   "cell_type": "code",
   "execution_count": 134,
   "metadata": {},
   "outputs": [
    {
     "name": "stdout",
     "output_type": "stream",
     "text": [
      "."
     ]
    }
   ],
   "source": [
    "s.settimeout(120)\n",
    "cl, addr = s.accept()  # hangs"
   ]
  },
  {
   "cell_type": "code",
   "execution_count": 135,
   "metadata": {},
   "outputs": [
    {
     "name": "stdout",
     "output_type": "stream",
     "text": [
      "[b'GET /gggffffggg HTTP/1.1\\r\\n']\n",
      "[b'Host: 192.168.4.1\\r\\n']\n",
      "[b'User-Agent: Mozilla/5.0 (X11; Ubuntu; Linux x86_64; rv:55.0) Gecko/20100101 Firefox/55.0\\r\\n']\n",
      "[b'Accept: text/html,application/xhtml+xml,application/xml;q=0.9,*/*;q=0.8\\r\\n']\n",
      "[b'Accept-Language: en-GB,en;q=0.5\\r\\n']\n",
      "[b'Accept-Encoding: gzip, deflate\\r\\n']\n",
      "[b'Connection: keep-alive\\r\\n']\n",
      "[b'Upgrade-Insecure-Requests: 1\\r\\n']\n",
      "[b'\\r\\n']\n"
     ]
    }
   ],
   "source": [
    "fcl = cl.makefile('rwb', 0)\n",
    "while True:\n",
    "    k = fcl.readline()\n",
    "    print([k])\n",
    "    if not k.strip():\n",
    "        break"
   ]
  },
  {
   "cell_type": "code",
   "execution_count": 136,
   "metadata": {
    "collapsed": true
   },
   "outputs": [],
   "source": [
    "cl.sendall(\"HTTP/1.0 200 OK\\r\\n\")\n",
    "cl.sendall(\"Content-Type: text/plain\\r\\n\\r\\n\")\n",
    "cl.sendall(\"zingggfff\")\n",
    "cl.close()\n"
   ]
  },
  {
   "cell_type": "code",
   "execution_count": null,
   "metadata": {
    "collapsed": true
   },
   "outputs": [],
   "source": []
  },
  {
   "cell_type": "code",
   "execution_count": null,
   "metadata": {
    "collapsed": true
   },
   "outputs": [],
   "source": []
  },
  {
   "cell_type": "code",
   "execution_count": null,
   "metadata": {
    "collapsed": true
   },
   "outputs": [],
   "source": []
  },
  {
   "cell_type": "code",
   "execution_count": null,
   "metadata": {
    "collapsed": true
   },
   "outputs": [],
   "source": []
  }
 ],
 "metadata": {
  "kernelspec": {
   "display_name": "MicroPython - /dev/ttyUSB0",
   "language": "micropython",
   "name": "micropython"
  },
  "language_info": {
   "codemirror_mode": "python",
   "file_extension": ".py",
   "mimetype": "text/python",
   "name": "micropython"
  }
 },
 "nbformat": 4,
 "nbformat_minor": 2
}
