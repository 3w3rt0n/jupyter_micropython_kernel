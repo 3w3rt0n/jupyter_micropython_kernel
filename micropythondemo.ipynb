{
 "cells": [
  {
   "cell_type": "code",
   "execution_count": 5,
   "metadata": {},
   "outputs": [
    {
     "name": "stdout",
     "output_type": "stream",
     "text": [
      "\n",
      "\n",
      "*** [Input/output error]\n",
      "\n"
     ]
    }
   ],
   "source": [
    "asdasd"
   ]
  },
  {
   "cell_type": "code",
   "execution_count": 10,
   "metadata": {},
   "outputs": [
    {
     "name": "stdout",
     "output_type": "stream",
     "text": [
      "Connecting to Serial(/dev/ttyUSB1, 115200)\n",
      "Serial connected Serial<id=0x7f2885edf0f0, open=True>(port='/dev/ttyUSB1', baudrate=115200, bytesize=8, parity='N', stopbits=1, timeout=0.5, xonxoff=False, rtscts=False, dsrdtr=False)\n",
      "raw REPL; CTRL-B to exit\n"
     ]
    }
   ],
   "source": [
    "%%CONN /dev/ttyUSB1 115200"
   ]
  },
  {
   "cell_type": "code",
   "execution_count": 11,
   "metadata": {},
   "outputs": [
    {
     "name": "stdout",
     "output_type": "stream",
     "text": [
      "Traceback (most recent call last):\n",
      "  File \"<stdin>\", line 1, in <module>\n",
      "NameError: name 'i' is not defined\n"
     ]
    }
   ],
   "source": [
    "print(i)"
   ]
  },
  {
   "cell_type": "code",
   "execution_count": 12,
   "metadata": {},
   "outputs": [
    {
     "name": "stdout",
     "output_type": "stream",
     "text": [
      "[b'']"
     ]
    }
   ],
   "source": [
    "%%CHECK"
   ]
  },
  {
   "cell_type": "code",
   "execution_count": 14,
   "metadata": {},
   "outputs": [
    {
     "name": "stdout",
     "output_type": "stream",
     "text": [
      "1\n",
      "9\n",
      "81\n",
      "729\n",
      ".read failed: device reports readiness to read but returned no data (device disconnected or multiple access on port?)<class 'serial.serialutil.SerialException'>['__cause__', '__class__', '__context__', '__delattr__', '__dict__', '__dir__', '__doc__', '__eq__', '__format__', '__ge__', '__getattribute__', '__gt__', '__hash__', '__init__', '__init_subclass__', '__le__', '__lt__', '__module__', '__ne__', '__new__', '__reduce__', '__reduce_ex__', '__repr__', '__setattr__', '__setstate__', '__sizeof__', '__str__', '__subclasshook__', '__suppress_context__', '__traceback__', '__weakref__', 'args', 'characters_written', 'errno', 'filename', 'filename2', 'strerror', 'with_traceback']read failed: device reports readiness to read but returned no data (device disconnected or multiple access on port?)<class 'serial.serialutil.SerialException'>['__cause__', '__class__', '__context__', '__delattr__', '__dict__', '__dir__', '__doc__', '__eq__', '__format__', '__ge__', '__getattribute__', '__gt__', '__hash__', '__init__', '__init_subclass__', '__le__', '__lt__', '__module__', '__ne__', '__new__', '__reduce__', '__reduce_ex__', '__repr__', '__setattr__', '__setstate__', '__sizeof__', '__str__', '__subclasshook__', '__suppress_context__', '__traceback__', '__weakref__', 'args', 'characters_written', 'errno', 'filename', 'filename2', 'strerror', 'with_traceback']"
     ]
    }
   ],
   "source": [
    "# slow function to test streaming and interrupts\n",
    "import time\n",
    "def k(n):\n",
    "    for i in range(n):\n",
    "        print(9**i)\n",
    "        time.sleep(2)\n",
    "k(1900)\n"
   ]
  },
  {
   "cell_type": "code",
   "execution_count": 5,
   "metadata": {},
   "outputs": [
    {
     "name": "stdout",
     "output_type": "stream",
     "text": [
      "MicroPython v1.9.2-273-g56f18602 on 2017-09-25; ESP32 module with ESP32\n",
      "Type \"help()\" for more information.\n",
      "PYB: soft reboot\n",
      "OSError: [Errno 2] ENOENT\n",
      "MicroPython v1.9.2-273-g56f18602 on 2017-09-25; ESP32 module with ESP32\n",
      "Type \"help()\" for more information.\n",
      "raw REPL; CTRL-B to exit\n"
     ]
    }
   ],
   "source": [
    "%%REBOOT"
   ]
  },
  {
   "cell_type": "code",
   "execution_count": 13,
   "metadata": {},
   "outputs": [
    {
     "name": "stdout",
     "output_type": "stream",
     "text": [
      "Traceback (most recent call last):\n",
      "  File \"<stdin>\", line 1, in <module>\n",
      "NameError: name 'k' is not defined\n"
     ]
    }
   ],
   "source": [
    "k(3)"
   ]
  },
  {
   "cell_type": "code",
   "execution_count": 14,
   "metadata": {},
   "outputs": [
    {
     "name": "stdout",
     "output_type": "stream",
     "text": [
      "3 lines sent done"
     ]
    }
   ],
   "source": [
    "%%FILE ghgh1.py\n",
    "\n",
    "for x in range(10):\n",
    "    print(x**2)\n"
   ]
  },
  {
   "cell_type": "code",
   "execution_count": 21,
   "metadata": {},
   "outputs": [
    {
     "name": "stdout",
     "output_type": "stream",
     "text": [
      "['boot.py', 'ghgh1.py', 'pca9685.py']\r\n"
     ]
    }
   ],
   "source": [
    "import os\n",
    "print(os.listdir())"
   ]
  },
  {
   "cell_type": "code",
   "execution_count": 15,
   "metadata": {},
   "outputs": [
    {
     "name": "stdout",
     "output_type": "stream",
     "text": [
      "[<io.TextIOWrapper 3ffb44b0>]\n"
     ]
    }
   ],
   "source": [
    "print([O])"
   ]
  },
  {
   "cell_type": "code",
   "execution_count": 13,
   "metadata": {},
   "outputs": [],
   "source": [
    "import ghgh1"
   ]
  },
  {
   "cell_type": "code",
   "execution_count": 12,
   "metadata": {},
   "outputs": [
    {
     "name": "stdout",
     "output_type": "stream",
     "text": [
      "%%FILE ghgh1.py\n",
      "for x in range(10):\n",
      "    print(x**2)\n",
      "\n"
     ]
    }
   ],
   "source": [
    "f = open(\"ghgh1.py\", \"r\")\n",
    "print(f.read())"
   ]
  },
  {
   "cell_type": "code",
   "execution_count": 10,
   "metadata": {},
   "outputs": [
    {
     "name": "stdout",
     "output_type": "stream",
     "text": [
      "I (8383793) wifi: wifi firmware version: 4acbf1f\n",
      "I (8383793) wifi: config NVS flash: enabled\n",
      "I (8383793) wifi: config nano formating: disabled\n",
      "\u001b[0;32mI (8383793) system_api: Base MAC address is not set, read default base MAC address from BLK0 of EFUSE\u001b[0m\n",
      "\u001b[0;32mI (8383803) system_api: Base MAC address is not set, read default base MAC address from BLK0 of EFUSE\u001b[0m\n",
      "I (8383823) wifi: Init dynamic tx buffer num: 32\n",
      "I (8383823) wifi: Init data frame dynamic rx buffer num: 64\n",
      "I (8383823) wifi: Init management frame dynamic rx buffer num: 64\n",
      "I (8383823) wifi: wifi driver task: 3ffd7f18, prio:23, stack:4096\n",
      "I (8383833) wifi: Init static rx buffer num: 10\n",
      "I (8383833) wifi: Init dynamic rx buffer num: 0\n",
      "I (8383843) wifi: Init rx ampdu len mblock:7\n",
      "I (8383843) wifi: Init lldesc rx ampdu entry mblock:4\n",
      "I (8383853) wifi: wifi power manager task: 0x3ffdeacc prio: 21 stack: 2560\n",
      "\u001b[0;33mW (8383853) phy_init: failed to load RF calibration data (0x1102), falling back to full calibration\u001b[0m\n",
      "\u001b[0;32mI (8384023) phy: phy_version: 359.0, e79c19d, Aug 31 2017, 17:06:07, 0, 2\u001b[0m\n",
      "I (8384023) wifi: mode : null\n",
      "MicroPython-0dfa48\n"
     ]
    }
   ],
   "source": [
    "import ubinascii, network\n",
    "x = ubinascii.hexlify(network.WLAN().config(\"mac\")[-3:]).decode(\"utf8\")\n",
    "print(\"MicroPython-{}\".format(x))"
   ]
  },
  {
   "cell_type": "code",
   "execution_count": 11,
   "metadata": {},
   "outputs": [
    {
     "name": "stdout",
     "output_type": "stream",
     "text": [
      "__main__          flashbdev         random            uos\n",
      "_boot             framebuf          re                upip\n",
      "_onewire          gc                select            upip_utarfile\n",
      "_thread           hashlib           socket            upysh\n",
      "apa106            heapq             ssl               urandom\n",
      "array             inisetup          struct            ure\n",
      "binascii          io                sys               urequests\n",
      "btree             json              time              uselect\n",
      "builtins          machine           ubinascii         usocket\n",
      "cmath             math              ucollections      ussl\n",
      "collections       micropython       uctypes           ustruct\n",
      "dht               neopixel          uerrno            utime\n",
      "ds18x20           network           uheapq            utimeq\n",
      "errno             onewire           uio               uzlib\n",
      "esp               os                ujson             zlib\n",
      "Plus any modules on the filesystem\n"
     ]
    }
   ],
   "source": [
    "help(\"modules\")"
   ]
  },
  {
   "cell_type": "code",
   "execution_count": 9,
   "metadata": {},
   "outputs": [
    {
     "name": "stdout",
     "output_type": "stream",
     "text": [
      "__main__          http_client_ssl   sys               urandom\n",
      "_boot             http_server       time              ure\n",
      "_onewire          http_server_ssl   uasyncio/__init__ urequests\n",
      "_webrepl          inisetup          uasyncio/core     urllib/urequest\n",
      "apa102            json              ubinascii         uselect\n",
      "array             lwip              ucollections      usocket\n",
      "btree             machine           uctypes           ussl\n",
      "builtins          math              uerrno            ustruct\n",
      "dht               micropython       uhashlib          utime\n",
      "ds18x20           neopixel          uheapq            utimeq\n",
      "errno             network           uio               uzlib\n",
      "esp               ntptime           ujson             webrepl\n",
      "example_pub_button                  onewire           umqtt/robust      webrepl_setup\n",
      "example_sub_led   os                umqtt/simple      websocket\n",
      "flashbdev         port_diag         uos               websocket_helper\n",
      "framebuf          select            upip\n",
      "gc                socket            upip_utarfile\n",
      "http_client       ssd1306           upysh\n",
      "Plus any modules on the filesystem\n"
     ]
    }
   ],
   "source": [
    "help(\"modules\")"
   ]
  },
  {
   "cell_type": "code",
   "execution_count": 28,
   "metadata": {},
   "outputs": [
    {
     "name": "stdout",
     "output_type": "stream",
     "text": [
      "object <module 'neopixel'> is of type module\n",
      "  NeoPixel -- <class 'NeoPixel'>\n",
      "  __name__ -- neopixel\n",
      "  neopixel_write -- <function>\n"
     ]
    }
   ],
   "source": [
    "import neopixel, machine\n",
    "n = neopixel.NeoPixel(machine.Pin(4), 8)\n",
    "help(neopixel)\n"
   ]
  },
  {
   "cell_type": "code",
   "execution_count": 23,
   "metadata": {},
   "outputs": [],
   "source": [
    "import time\n",
    "def fff(k):\n",
    "    for i in range(k):\n",
    "        n[3] = ((i%2)*20, 2, 0)\n",
    "        n.write()\n",
    "        time.sleep(0.2)\n",
    "        print(i, \"hi there\")\n",
    "    "
   ]
  },
  {
   "cell_type": "code",
   "execution_count": 31,
   "metadata": {},
   "outputs": [],
   "source": [
    "for i in range(8):\n",
    "    n[i] = (10,0,0)\n",
    "n.write()\n",
    "\n",
    "\n"
   ]
  },
  {
   "cell_type": "code",
   "execution_count": 35,
   "metadata": {},
   "outputs": [
    {
     "name": "stdout",
     "output_type": "stream",
     "text": [
      "Traceback (most recent call last):\n",
      "  File \"<stdin>\", line 1\n",
      "SyntaxError: invalid syntax\n"
     ]
    }
   ],
   "source": [
    "%lsmagic"
   ]
  },
  {
   "cell_type": "code",
   "execution_count": 33,
   "metadata": {},
   "outputs": [
    {
     "name": "stdout",
     "output_type": "stream",
     "text": [
      "0 hi there\n",
      "1 hi there\n",
      "2 hi there\n",
      "3 hi there\n",
      "4 hi there\n",
      "5 hi there\n",
      "6 hi there\n"
     ]
    }
   ],
   "source": [
    "\n",
    "fff(7)"
   ]
  },
  {
   "cell_type": "code",
   "execution_count": 34,
   "metadata": {},
   "outputs": [
    {
     "name": "stdout",
     "output_type": "stream",
     "text": [
      "10 lines sent so far\n",
      "20 lines sent so far\n",
      "30 lines sent so far\n",
      "40 lines sent so far\n",
      "50 lines sent so far\n",
      "60 lines sent so far\n",
      "60 lines sent done"
     ]
    }
   ],
   "source": [
    "%%FILE pca9685.py\n",
    "\n",
    "import ustruct\n",
    "import time\n",
    "\n",
    "\n",
    "class PCA9685:\n",
    "    def __init__(self, i2c, address=0x40):\n",
    "        self.i2c = i2c\n",
    "        self.address = address\n",
    "        self.reset()\n",
    "\n",
    "    def _write(self, address, value):\n",
    "        self.i2c.writeto_mem(self.address, address, bytearray([value]))\n",
    "\n",
    "    def _read(self, address):\n",
    "        return self.i2c.readfrom_mem(self.address, address, 1)[0]\n",
    "\n",
    "    def reset(self):\n",
    "        self._write(0x00, 0x00) # Mode1\n",
    "\n",
    "    def freq(self, freq=None):\n",
    "        if freq is None:\n",
    "            return int(25000000.0 / 4096 / (self._read(0xfe) - 0.5))\n",
    "        prescale = int(25000000.0 / 4096.0 / freq + 0.5)\n",
    "        old_mode = self._read(0x00) # Mode 1\n",
    "        self._write(0x00, (old_mode & 0x7F) | 0x10) # Mode 1, sleep\n",
    "        self._write(0xfe, prescale) # Prescale\n",
    "        self._write(0x00, old_mode) # Mode 1\n",
    "        time.sleep_us(5)\n",
    "        self._write(0x00, old_mode | 0xa1) # Mode 1, autoincrement on\n",
    "\n",
    "    def pwm(self, index, on=None, off=None):\n",
    "        if on is None or off is None:\n",
    "            data = self.i2c.readfrom_mem(self.address, 0x06 + 4 * index, 4)\n",
    "            return ustruct.unpack('<HH', data)\n",
    "        data = ustruct.pack('<HH', on, off)\n",
    "        self.i2c.writeto_mem(self.address, 0x06 + 4 * index,  data)\n",
    "\n",
    "    def duty(self, index, value=None, invert=False):\n",
    "        if value is None:\n",
    "            pwm = self.pwm(index)\n",
    "            if pwm == (0, 4096):\n",
    "                value = 0\n",
    "            elif pwm == (4096, 0):\n",
    "                value = 4095\n",
    "            value = pwm[1]\n",
    "            if invert:\n",
    "                value = 4095 - value\n",
    "            return value\n",
    "        if not 0 <= value <= 4095:\n",
    "            raise ValueError(\"Out of range\")\n",
    "        if invert:\n",
    "            value = 4095 - value\n",
    "        if value == 0:\n",
    "            self.pwm(index, 0, 4096)\n",
    "        elif value == 4095:\n",
    "            self.pwm(index, 4096, 0)\n",
    "        else:\n",
    "            self.pwm(index, 0, value)\n",
    "\n"
   ]
  },
  {
   "cell_type": "code",
   "execution_count": null,
   "metadata": {
    "collapsed": true
   },
   "outputs": [],
   "source": []
  }
 ],
 "metadata": {
  "kernelspec": {
   "display_name": "MicroPython - /dev/ttyUSB0",
   "language": "micropython",
   "name": "micropython"
  },
  "language_info": {
   "codemirror_mode": "python",
   "file_extension": ".py",
   "mimetype": "text/python",
   "name": "micropython"
  }
 },
 "nbformat": 4,
 "nbformat_minor": 2
}
