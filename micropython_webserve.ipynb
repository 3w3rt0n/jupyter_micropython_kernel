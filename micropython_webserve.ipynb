{
 "cells": [
  {
   "cell_type": "code",
   "execution_count": null,
   "metadata": {
    "collapsed": true
   },
   "outputs": [],
   "source": [
    "ipnumber = \"192.168.4.1\"  # to be rewritten when using network.WLAN"
   ]
  },
  {
   "cell_type": "code",
   "execution_count": 1,
   "metadata": {},
   "outputs": [
    {
     "name": "stdout",
     "output_type": "stream",
     "text": [
      "No serial connected\n",
      "  %serialconnect to connect\n",
      "  %lsmagic to list commands"
     ]
    }
   ],
   "source": [
    "# The code necessary for accepting and serving a connection into its hotspot\n",
    "# (you have to totally reset device to recover a connection from being in use)\n",
    "import socket\n",
    "\n",
    "s = socket.socket()\n",
    "s.bind((ipnumber, 80))\n",
    "s.listen(5)  # 5 connections"
   ]
  },
  {
   "cell_type": "code",
   "execution_count": null,
   "metadata": {
    "collapsed": true
   },
   "outputs": [],
   "source": [
    "s.settimeout(120)\n",
    "cl, addr = s.accept()  # hangs for 2 minutes or until there is a connection\n",
    "# Now connect to the webpage http://192.168.4.1/gggffffggg"
   ]
  },
  {
   "cell_type": "code",
   "execution_count": null,
   "metadata": {
    "collapsed": true
   },
   "outputs": [],
   "source": [
    "fcl = cl.makefile('rwb', 0)\n",
    "while True:\n",
    "    k = fcl.readline()\n",
    "    print([k])\n",
    "    if not k.strip():\n",
    "        break\n"
   ]
  },
  {
   "cell_type": "code",
   "execution_count": null,
   "metadata": {
    "collapsed": true
   },
   "outputs": [],
   "source": [
    "cl.sendall(\"HTTP/1.0 200 OK\\r\\n\")\n",
    "cl.sendall(\"Content-Type: text/plain\\r\\n\\r\\n\")\n",
    "cl.sendall(\"zingggfff\")\n",
    "cl.close()\n"
   ]
  },
  {
   "cell_type": "code",
   "execution_count": null,
   "metadata": {
    "collapsed": true
   },
   "outputs": [],
   "source": []
  },
  {
   "cell_type": "code",
   "execution_count": null,
   "metadata": {
    "collapsed": true
   },
   "outputs": [],
   "source": []
  },
  {
   "cell_type": "code",
   "execution_count": null,
   "metadata": {
    "collapsed": true
   },
   "outputs": [],
   "source": [
    "# If you want to connect through \n",
    "import network\n",
    "si = network.WLAN(network.STA_IF)\n",
    "#assert not si.isconnected()\n",
    "\n",
    "doeswifiname = max((sc  for sc in si.scan()  if sc[0][:4] == b'DoES'), key=lambda X: X[3])[0]  # X[3]=RSSI (received signal strength)\n",
    "\n",
    "print(\"strongest DoESWifi signal\", doeswifiname)\n",
    "si.active(True)\n",
    "si.connect(doeswifiname, \"decafbad00\")\n"
   ]
  },
  {
   "cell_type": "code",
   "execution_count": 2,
   "metadata": {},
   "outputs": [
    {
     "name": "stdout",
     "output_type": "stream",
     "text": [
      "No serial connected\n",
      "  %serialconnect to connect\n",
      "  %lsmagic to list commands"
     ]
    }
   ],
   "source": [
    "# do sudo arp-scan 192.168.0.0/24 | grep 8a\n",
    "# where the 8a is from the wifi hotspot name\n",
    "#    ---> comes up with si.ifconfig()[0]\n",
    "ipnumber = si.ifconfig()[0]\n",
    "print(\"Connect through wifi to\", ipnumber)\n",
    "# now go to the top and make that webserver request again"
   ]
  },
  {
   "cell_type": "code",
   "execution_count": null,
   "metadata": {
    "collapsed": true
   },
   "outputs": [],
   "source": []
  }
 ],
 "metadata": {
  "kernelspec": {
   "display_name": "MicroPython - /dev/ttyUSB0",
   "language": "micropython",
   "name": "micropython"
  },
  "language_info": {
   "codemirror_mode": "python",
   "file_extension": ".py",
   "mimetype": "text/python",
   "name": "micropython"
  }
 },
 "nbformat": 4,
 "nbformat_minor": 2
}
